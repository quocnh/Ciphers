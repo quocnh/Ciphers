{
  "nbformat": 4,
  "nbformat_minor": 0,
  "metadata": {
    "colab": {
      "provenance": [],
      "collapsed_sections": []
    },
    "kernelspec": {
      "name": "python3",
      "display_name": "Python 3"
    },
    "language_info": {
      "name": "python"
    }
  },
  "cells": [
    {
      "cell_type": "markdown",
      "source": [
        "### 1. Dataset Creation\n",
        "a. Caesar Cipher (with keys 1 through 5)\n",
        "\n",
        "b. Playfair Cipher (with keywords CRYPTOFUN and SHERLOCK)\n",
        "\n",
        "c. Polyalphabetic Substitution Cipher (with keys DECEPTIVE and EXCITING)"
      ],
      "metadata": {
        "id": "aLn5coBe3sPU"
      }
    },
    {
      "cell_type": "code",
      "source": [
        "!pip install pycipher\n",
        "!pip install requests"
      ],
      "metadata": {
        "colab": {
          "base_uri": "https://localhost:8080/"
        },
        "id": "UA9buwqJ79MZ",
        "outputId": "f578b824-075e-4df6-c2e1-4ea0062218d4"
      },
      "execution_count": null,
      "outputs": [
        {
          "output_type": "stream",
          "name": "stdout",
          "text": [
            "Looking in indexes: https://pypi.org/simple, https://us-python.pkg.dev/colab-wheels/public/simple/\n",
            "Collecting pycipher\n",
            "  Downloading pycipher-0.5.2.zip (45 kB)\n",
            "\u001b[K     |████████████████████████████████| 45 kB 1.3 MB/s \n",
            "\u001b[?25hBuilding wheels for collected packages: pycipher\n",
            "  Building wheel for pycipher (setup.py) ... \u001b[?25l\u001b[?25hdone\n",
            "  Created wheel for pycipher: filename=pycipher-0.5.2-py3-none-any.whl size=30459 sha256=fb0ddaf04837bbbb97cc8ed522f63f5f6f899d73aba4e401c0ca73b36f95efc6\n",
            "  Stored in directory: /root/.cache/pip/wheels/95/4a/2a/ea10423cf27ef52a0bd1c91d351a936131b3c686195e54a310\n",
            "Successfully built pycipher\n",
            "Installing collected packages: pycipher\n",
            "Successfully installed pycipher-0.5.2\n",
            "Looking in indexes: https://pypi.org/simple, https://us-python.pkg.dev/colab-wheels/public/simple/\n",
            "Requirement already satisfied: requests in /usr/local/lib/python3.7/dist-packages (2.23.0)\n",
            "Requirement already satisfied: urllib3!=1.25.0,!=1.25.1,<1.26,>=1.21.1 in /usr/local/lib/python3.7/dist-packages (from requests) (1.24.3)\n",
            "Requirement already satisfied: certifi>=2017.4.17 in /usr/local/lib/python3.7/dist-packages (from requests) (2022.9.24)\n",
            "Requirement already satisfied: idna<3,>=2.5 in /usr/local/lib/python3.7/dist-packages (from requests) (2.10)\n",
            "Requirement already satisfied: chardet<4,>=3.0.2 in /usr/local/lib/python3.7/dist-packages (from requests) (3.0.4)\n"
          ]
        }
      ]
    },
    {
      "cell_type": "code",
      "source": [
        "from pycipher import Caesar\n",
        "from pycipher import Playfair\n",
        "from pycipher.vigenere import Vigenere\n",
        "import pandas as pd\n",
        "import random \n",
        "import re\n",
        "from google.colab import files\n"
      ],
      "metadata": {
        "id": "xkPEjEkQ7qVf"
      },
      "execution_count": null,
      "outputs": []
    },
    {
      "cell_type": "markdown",
      "source": [
        "#### Generate a list of 9-letter words from *.txt files\n",
        "The code can generate one 9-letter word, or a combination of words which total length = 9. Let's go with one 9-letter word."
      ],
      "metadata": {
        "id": "rA08J3q4fZY7"
      }
    },
    {
      "cell_type": "code",
      "source": [
        "uploaded = files.upload()"
      ],
      "metadata": {
        "colab": {
          "base_uri": "https://localhost:8080/",
          "height": 73
        },
        "id": "T6KN4sjK0_Gc",
        "outputId": "bd378b08-4c15-49d8-85ee-b3faa28f37d8"
      },
      "execution_count": null,
      "outputs": [
        {
          "output_type": "display_data",
          "data": {
            "text/plain": [
              "<IPython.core.display.HTML object>"
            ],
            "text/html": [
              "\n",
              "     <input type=\"file\" id=\"files-e0fdaf62-6b2a-4145-a5c7-f19fe063bfdc\" name=\"files[]\" multiple disabled\n",
              "        style=\"border:none\" />\n",
              "     <output id=\"result-e0fdaf62-6b2a-4145-a5c7-f19fe063bfdc\">\n",
              "      Upload widget is only available when the cell has been executed in the\n",
              "      current browser session. Please rerun this cell to enable.\n",
              "      </output>\n",
              "      <script>// Copyright 2017 Google LLC\n",
              "//\n",
              "// Licensed under the Apache License, Version 2.0 (the \"License\");\n",
              "// you may not use this file except in compliance with the License.\n",
              "// You may obtain a copy of the License at\n",
              "//\n",
              "//      http://www.apache.org/licenses/LICENSE-2.0\n",
              "//\n",
              "// Unless required by applicable law or agreed to in writing, software\n",
              "// distributed under the License is distributed on an \"AS IS\" BASIS,\n",
              "// WITHOUT WARRANTIES OR CONDITIONS OF ANY KIND, either express or implied.\n",
              "// See the License for the specific language governing permissions and\n",
              "// limitations under the License.\n",
              "\n",
              "/**\n",
              " * @fileoverview Helpers for google.colab Python module.\n",
              " */\n",
              "(function(scope) {\n",
              "function span(text, styleAttributes = {}) {\n",
              "  const element = document.createElement('span');\n",
              "  element.textContent = text;\n",
              "  for (const key of Object.keys(styleAttributes)) {\n",
              "    element.style[key] = styleAttributes[key];\n",
              "  }\n",
              "  return element;\n",
              "}\n",
              "\n",
              "// Max number of bytes which will be uploaded at a time.\n",
              "const MAX_PAYLOAD_SIZE = 100 * 1024;\n",
              "\n",
              "function _uploadFiles(inputId, outputId) {\n",
              "  const steps = uploadFilesStep(inputId, outputId);\n",
              "  const outputElement = document.getElementById(outputId);\n",
              "  // Cache steps on the outputElement to make it available for the next call\n",
              "  // to uploadFilesContinue from Python.\n",
              "  outputElement.steps = steps;\n",
              "\n",
              "  return _uploadFilesContinue(outputId);\n",
              "}\n",
              "\n",
              "// This is roughly an async generator (not supported in the browser yet),\n",
              "// where there are multiple asynchronous steps and the Python side is going\n",
              "// to poll for completion of each step.\n",
              "// This uses a Promise to block the python side on completion of each step,\n",
              "// then passes the result of the previous step as the input to the next step.\n",
              "function _uploadFilesContinue(outputId) {\n",
              "  const outputElement = document.getElementById(outputId);\n",
              "  const steps = outputElement.steps;\n",
              "\n",
              "  const next = steps.next(outputElement.lastPromiseValue);\n",
              "  return Promise.resolve(next.value.promise).then((value) => {\n",
              "    // Cache the last promise value to make it available to the next\n",
              "    // step of the generator.\n",
              "    outputElement.lastPromiseValue = value;\n",
              "    return next.value.response;\n",
              "  });\n",
              "}\n",
              "\n",
              "/**\n",
              " * Generator function which is called between each async step of the upload\n",
              " * process.\n",
              " * @param {string} inputId Element ID of the input file picker element.\n",
              " * @param {string} outputId Element ID of the output display.\n",
              " * @return {!Iterable<!Object>} Iterable of next steps.\n",
              " */\n",
              "function* uploadFilesStep(inputId, outputId) {\n",
              "  const inputElement = document.getElementById(inputId);\n",
              "  inputElement.disabled = false;\n",
              "\n",
              "  const outputElement = document.getElementById(outputId);\n",
              "  outputElement.innerHTML = '';\n",
              "\n",
              "  const pickedPromise = new Promise((resolve) => {\n",
              "    inputElement.addEventListener('change', (e) => {\n",
              "      resolve(e.target.files);\n",
              "    });\n",
              "  });\n",
              "\n",
              "  const cancel = document.createElement('button');\n",
              "  inputElement.parentElement.appendChild(cancel);\n",
              "  cancel.textContent = 'Cancel upload';\n",
              "  const cancelPromise = new Promise((resolve) => {\n",
              "    cancel.onclick = () => {\n",
              "      resolve(null);\n",
              "    };\n",
              "  });\n",
              "\n",
              "  // Wait for the user to pick the files.\n",
              "  const files = yield {\n",
              "    promise: Promise.race([pickedPromise, cancelPromise]),\n",
              "    response: {\n",
              "      action: 'starting',\n",
              "    }\n",
              "  };\n",
              "\n",
              "  cancel.remove();\n",
              "\n",
              "  // Disable the input element since further picks are not allowed.\n",
              "  inputElement.disabled = true;\n",
              "\n",
              "  if (!files) {\n",
              "    return {\n",
              "      response: {\n",
              "        action: 'complete',\n",
              "      }\n",
              "    };\n",
              "  }\n",
              "\n",
              "  for (const file of files) {\n",
              "    const li = document.createElement('li');\n",
              "    li.append(span(file.name, {fontWeight: 'bold'}));\n",
              "    li.append(span(\n",
              "        `(${file.type || 'n/a'}) - ${file.size} bytes, ` +\n",
              "        `last modified: ${\n",
              "            file.lastModifiedDate ? file.lastModifiedDate.toLocaleDateString() :\n",
              "                                    'n/a'} - `));\n",
              "    const percent = span('0% done');\n",
              "    li.appendChild(percent);\n",
              "\n",
              "    outputElement.appendChild(li);\n",
              "\n",
              "    const fileDataPromise = new Promise((resolve) => {\n",
              "      const reader = new FileReader();\n",
              "      reader.onload = (e) => {\n",
              "        resolve(e.target.result);\n",
              "      };\n",
              "      reader.readAsArrayBuffer(file);\n",
              "    });\n",
              "    // Wait for the data to be ready.\n",
              "    let fileData = yield {\n",
              "      promise: fileDataPromise,\n",
              "      response: {\n",
              "        action: 'continue',\n",
              "      }\n",
              "    };\n",
              "\n",
              "    // Use a chunked sending to avoid message size limits. See b/62115660.\n",
              "    let position = 0;\n",
              "    do {\n",
              "      const length = Math.min(fileData.byteLength - position, MAX_PAYLOAD_SIZE);\n",
              "      const chunk = new Uint8Array(fileData, position, length);\n",
              "      position += length;\n",
              "\n",
              "      const base64 = btoa(String.fromCharCode.apply(null, chunk));\n",
              "      yield {\n",
              "        response: {\n",
              "          action: 'append',\n",
              "          file: file.name,\n",
              "          data: base64,\n",
              "        },\n",
              "      };\n",
              "\n",
              "      let percentDone = fileData.byteLength === 0 ?\n",
              "          100 :\n",
              "          Math.round((position / fileData.byteLength) * 100);\n",
              "      percent.textContent = `${percentDone}% done`;\n",
              "\n",
              "    } while (position < fileData.byteLength);\n",
              "  }\n",
              "\n",
              "  // All done.\n",
              "  yield {\n",
              "    response: {\n",
              "      action: 'complete',\n",
              "    }\n",
              "  };\n",
              "}\n",
              "\n",
              "scope.google = scope.google || {};\n",
              "scope.google.colab = scope.google.colab || {};\n",
              "scope.google.colab._files = {\n",
              "  _uploadFiles,\n",
              "  _uploadFilesContinue,\n",
              "};\n",
              "})(self);\n",
              "</script> "
            ]
          },
          "metadata": {}
        },
        {
          "output_type": "stream",
          "name": "stdout",
          "text": [
            "Saving book.txt to book.txt\n"
          ]
        }
      ]
    },
    {
      "cell_type": "code",
      "source": [
        "# read words from txt files\n",
        "lines = open(\"book.txt\").read().strip()\n",
        "words = lines.split()\n",
        "# print(len(words))\n",
        "\n",
        "# filter a word has 9 letters\n",
        "raw_words = []\n",
        "for i in words:\n",
        "  i = re.sub(r\"[^a-zA-Z]\", \"\", i)\n",
        "  if (len(i) == 9):\n",
        "    raw_words.append(i)\n",
        "# print(len(raw_words))\n",
        "\n",
        "# # filter 3 consecutive words has length of 9\n",
        "# for i in range(2, len(words)):\n",
        "#   tmp = ''.join([words[i-2],words[i-1],words[i]])\n",
        "#   # Remove Special Characters from a String Using re.sub()\n",
        "#   tmp = re.sub(r\"[^a-zA-Z]\", \"\", tmp)\n",
        "#   if (len(tmp) == 9):\n",
        "#       raw_words.append(tmp)\n",
        "# # print(len(raw_words))\n",
        "\n",
        "# remove duplicate words \n",
        "raw_words = list(set(raw_words))\n",
        "# lowercase words\n",
        "raw_words = [x.lower() for x in raw_words]\n",
        "print(\"Number of words has 9 letters:\")\n",
        "print(len(raw_words))"
      ],
      "metadata": {
        "id": "KHaUv9YNWC69",
        "colab": {
          "base_uri": "https://localhost:8080/"
        },
        "outputId": "8b1a72e0-57ca-4597-cf4e-1847448f6020"
      },
      "execution_count": null,
      "outputs": [
        {
          "output_type": "stream",
          "name": "stdout",
          "text": [
            "Number of words has 9 letters:\n",
            "679\n"
          ]
        }
      ]
    },
    {
      "cell_type": "code",
      "source": [
        "raw_words[:10]"
      ],
      "metadata": {
        "colab": {
          "base_uri": "https://localhost:8080/"
        },
        "id": "O8__l6CrVpyo",
        "outputId": "8fd59bf6-5f20-4a27-c848-53bdb5edaeba"
      },
      "execution_count": null,
      "outputs": [
        {
          "output_type": "execute_result",
          "data": {
            "text/plain": [
              "['seriously',\n",
              " 'instantly',\n",
              " 'succeeded',\n",
              " 'canadians',\n",
              " 'automated',\n",
              " 'cupertino',\n",
              " 'providers',\n",
              " 'connected',\n",
              " 'education',\n",
              " 'identical']"
            ]
          },
          "metadata": {},
          "execution_count": 27
        }
      ]
    },
    {
      "cell_type": "markdown",
      "source": [
        "### Create 3 lists including plain_text, cipher_text, and cipher_class"
      ],
      "metadata": {
        "id": "f1NueX3Iy_AB"
      }
    },
    {
      "cell_type": "code",
      "source": [
        "plain_text = []\n",
        "cipher_text = []\n",
        "cipher_class = []\n",
        "\n",
        "\n",
        "# Create Caesar examples with keys from 1 to 5\n",
        "for key in range(1, 6):\n",
        "  for text in raw_words:\n",
        "    plain_text.append(text)\n",
        "    cipher_text.append(Caesar(key).encipher(text))\n",
        "    cipher_class.append(0)\n",
        "\n",
        "print(len(plain_text))\n",
        "print(len(cipher_text))\n",
        "print(len(cipher_class))\n",
        "print(plain_text[:5])\n",
        "print(cipher_text[:5])\n",
        "print(cipher_class[0:5])"
      ],
      "metadata": {
        "colab": {
          "base_uri": "https://localhost:8080/"
        },
        "id": "ugg4ioDIpZl5",
        "outputId": "bceb54e4-6760-48cc-829a-7b390a6f108c"
      },
      "execution_count": null,
      "outputs": [
        {
          "output_type": "stream",
          "name": "stdout",
          "text": [
            "3395\n",
            "3395\n",
            "3395\n",
            "['seriously', 'instantly', 'succeeded', 'canadians', 'automated']\n",
            "['TFSJPVTMZ', 'JOTUBOUMZ', 'TVDDFFEFE', 'DBOBEJBOT', 'BVUPNBUFE']\n",
            "[0, 0, 0, 0, 0]\n"
          ]
        }
      ]
    },
    {
      "cell_type": "code",
      "source": [
        "# Playfair Cipher (with keywords CRYPTOFUN and SHERLOCK)\n",
        "keys = [\"cryptofunabdeghiklmqsvwxz\", \"sherlockabdfgimnpqtuvwxyz\"]\n",
        "# keys = [\"cryptofunabdeghiklmqsvwxz\", \"sherlockabdfgimnpqtuvwxyz\",\"CRYPTOISFUNABDEGHKLMQVWXZ\",\"CRYPTOUGHABDEFIKLMNQSVWXZ\",\"REALWOKBCDFGHIMNPQSTUVXYZ\"]\n",
        "for key in keys:\n",
        "  print(key)\n",
        "  for text in raw_words:\n",
        "    plain_text.append(text)\n",
        "    cipher_text.append(Playfair(key).encipher(text))\n",
        "    cipher_class.append(1)\n",
        "print(len(plain_text))\n",
        "print(len(cipher_text))\n",
        "print(len(cipher_class))\n",
        "print(cipher_text[3790:3795])\n",
        "print(cipher_class[3790:3795])"
      ],
      "metadata": {
        "colab": {
          "base_uri": "https://localhost:8080/"
        },
        "id": "6mVEMpxhrGGe",
        "outputId": "c9a173bd-d618-4242-8655-806df0c432fa"
      },
      "execution_count": null,
      "outputs": [
        {
          "output_type": "stream",
          "name": "stdout",
          "text": [
            "cryptofunabdeghiklmqsvwxz\n",
            "sherlockabdfgimnpqtuvwxyz\n",
            "4753\n",
            "4753\n",
            "4753\n",
            "['YDHNFKMOMP', 'WLRCCFOMPS', 'YDSBMOEGPV', 'LGHNOKWLVZ', 'EGMKWDYDGV']\n",
            "[1, 1, 1, 1, 1]\n"
          ]
        }
      ]
    },
    {
      "cell_type": "code",
      "source": [
        "# Polyalphabetic Substitution (Vigenere) Cipher (with keys DECEPTIVE and EXCITING)\n",
        "keys = [\"deceptive\", \"exciting\"]\n",
        "# keys = [\"deceptive\", \"exciting\", \"dedication\", \"resilience\", \"realmadrid\"]\n",
        "for key in keys:\n",
        "  print(key)\n",
        "  for text in raw_words:\n",
        "    plain_text.append(text)\n",
        "    cipher_text.append(Vigenere(key).encipher(text))\n",
        "    cipher_class.append(2)\n",
        "print(len(plain_text))\n",
        "print(len(cipher_text))\n",
        "print(len(cipher_class))\n",
        "print(cipher_text[5306:5311])\n",
        "print(cipher_class[5306:5311])"
      ],
      "metadata": {
        "colab": {
          "base_uri": "https://localhost:8080/"
        },
        "id": "D5I1EfOyv8J3",
        "outputId": "cb130521-19b5-47e2-8a86-adc7ed20f978"
      },
      "execution_count": null,
      "outputs": [
        {
          "output_type": "stream",
          "name": "stdout",
          "text": [
            "deceptive\n",
            "exciting\n",
            "6111\n",
            "6111\n",
            "6111\n",
            "['QIVMSBWOW', 'LRVIGYIXI', 'LRUYAMQIK', 'GINIIBWIW', 'IXRZDTOJZ']\n",
            "[2, 2, 2, 2, 2]\n"
          ]
        }
      ]
    },
    {
      "cell_type": "markdown",
      "source": [
        "### Create a pandas table from 3 lists above"
      ],
      "metadata": {
        "id": "iJ4d9_yJOqPF"
      }
    },
    {
      "cell_type": "code",
      "source": [
        "# dictionary of lists \n",
        "dict = {'Plaintext': plain_text, 'Ciphertext': cipher_text, 'Cipher Class': cipher_class} \n",
        "    \n",
        "df = pd.DataFrame(dict)"
      ],
      "metadata": {
        "id": "KnsLbkgfycNl"
      },
      "execution_count": null,
      "outputs": []
    },
    {
      "cell_type": "code",
      "source": [
        "# df has the shape of (611x3). \n",
        "df"
      ],
      "metadata": {
        "colab": {
          "base_uri": "https://localhost:8080/",
          "height": 424
        },
        "id": "CK3B5urT_HYR",
        "outputId": "11672aa1-a061-4d4f-d0be-c79a2e4e4ed0"
      },
      "execution_count": null,
      "outputs": [
        {
          "output_type": "execute_result",
          "data": {
            "text/plain": [
              "      Plaintext Ciphertext  Cipher Class\n",
              "0     seriously  TFSJPVTMZ             0\n",
              "1     instantly  JOTUBOUMZ             0\n",
              "2     succeeded  TVDDFFEFE             0\n",
              "3     canadians  DBOBEJBOT             0\n",
              "4     automated  BVUPNBUFE             0\n",
              "...         ...        ...           ...\n",
              "6106  killfiles  OFNTYQYKW             2\n",
              "6107  protected  TOQBXKGKH             2\n",
              "6108  attention  EQVMGBVUR             2\n",
              "6109  directory  HFTMVBBXC             2\n",
              "6110  nonprofit  RLPXKWSOX             2\n",
              "\n",
              "[6111 rows x 3 columns]"
            ],
            "text/html": [
              "\n",
              "  <div id=\"df-8f085df5-ffc3-431d-bba4-44c5609ec042\">\n",
              "    <div class=\"colab-df-container\">\n",
              "      <div>\n",
              "<style scoped>\n",
              "    .dataframe tbody tr th:only-of-type {\n",
              "        vertical-align: middle;\n",
              "    }\n",
              "\n",
              "    .dataframe tbody tr th {\n",
              "        vertical-align: top;\n",
              "    }\n",
              "\n",
              "    .dataframe thead th {\n",
              "        text-align: right;\n",
              "    }\n",
              "</style>\n",
              "<table border=\"1\" class=\"dataframe\">\n",
              "  <thead>\n",
              "    <tr style=\"text-align: right;\">\n",
              "      <th></th>\n",
              "      <th>Plaintext</th>\n",
              "      <th>Ciphertext</th>\n",
              "      <th>Cipher Class</th>\n",
              "    </tr>\n",
              "  </thead>\n",
              "  <tbody>\n",
              "    <tr>\n",
              "      <th>0</th>\n",
              "      <td>seriously</td>\n",
              "      <td>TFSJPVTMZ</td>\n",
              "      <td>0</td>\n",
              "    </tr>\n",
              "    <tr>\n",
              "      <th>1</th>\n",
              "      <td>instantly</td>\n",
              "      <td>JOTUBOUMZ</td>\n",
              "      <td>0</td>\n",
              "    </tr>\n",
              "    <tr>\n",
              "      <th>2</th>\n",
              "      <td>succeeded</td>\n",
              "      <td>TVDDFFEFE</td>\n",
              "      <td>0</td>\n",
              "    </tr>\n",
              "    <tr>\n",
              "      <th>3</th>\n",
              "      <td>canadians</td>\n",
              "      <td>DBOBEJBOT</td>\n",
              "      <td>0</td>\n",
              "    </tr>\n",
              "    <tr>\n",
              "      <th>4</th>\n",
              "      <td>automated</td>\n",
              "      <td>BVUPNBUFE</td>\n",
              "      <td>0</td>\n",
              "    </tr>\n",
              "    <tr>\n",
              "      <th>...</th>\n",
              "      <td>...</td>\n",
              "      <td>...</td>\n",
              "      <td>...</td>\n",
              "    </tr>\n",
              "    <tr>\n",
              "      <th>6106</th>\n",
              "      <td>killfiles</td>\n",
              "      <td>OFNTYQYKW</td>\n",
              "      <td>2</td>\n",
              "    </tr>\n",
              "    <tr>\n",
              "      <th>6107</th>\n",
              "      <td>protected</td>\n",
              "      <td>TOQBXKGKH</td>\n",
              "      <td>2</td>\n",
              "    </tr>\n",
              "    <tr>\n",
              "      <th>6108</th>\n",
              "      <td>attention</td>\n",
              "      <td>EQVMGBVUR</td>\n",
              "      <td>2</td>\n",
              "    </tr>\n",
              "    <tr>\n",
              "      <th>6109</th>\n",
              "      <td>directory</td>\n",
              "      <td>HFTMVBBXC</td>\n",
              "      <td>2</td>\n",
              "    </tr>\n",
              "    <tr>\n",
              "      <th>6110</th>\n",
              "      <td>nonprofit</td>\n",
              "      <td>RLPXKWSOX</td>\n",
              "      <td>2</td>\n",
              "    </tr>\n",
              "  </tbody>\n",
              "</table>\n",
              "<p>6111 rows × 3 columns</p>\n",
              "</div>\n",
              "      <button class=\"colab-df-convert\" onclick=\"convertToInteractive('df-8f085df5-ffc3-431d-bba4-44c5609ec042')\"\n",
              "              title=\"Convert this dataframe to an interactive table.\"\n",
              "              style=\"display:none;\">\n",
              "        \n",
              "  <svg xmlns=\"http://www.w3.org/2000/svg\" height=\"24px\"viewBox=\"0 0 24 24\"\n",
              "       width=\"24px\">\n",
              "    <path d=\"M0 0h24v24H0V0z\" fill=\"none\"/>\n",
              "    <path d=\"M18.56 5.44l.94 2.06.94-2.06 2.06-.94-2.06-.94-.94-2.06-.94 2.06-2.06.94zm-11 1L8.5 8.5l.94-2.06 2.06-.94-2.06-.94L8.5 2.5l-.94 2.06-2.06.94zm10 10l.94 2.06.94-2.06 2.06-.94-2.06-.94-.94-2.06-.94 2.06-2.06.94z\"/><path d=\"M17.41 7.96l-1.37-1.37c-.4-.4-.92-.59-1.43-.59-.52 0-1.04.2-1.43.59L10.3 9.45l-7.72 7.72c-.78.78-.78 2.05 0 2.83L4 21.41c.39.39.9.59 1.41.59.51 0 1.02-.2 1.41-.59l7.78-7.78 2.81-2.81c.8-.78.8-2.07 0-2.86zM5.41 20L4 18.59l7.72-7.72 1.47 1.35L5.41 20z\"/>\n",
              "  </svg>\n",
              "      </button>\n",
              "      \n",
              "  <style>\n",
              "    .colab-df-container {\n",
              "      display:flex;\n",
              "      flex-wrap:wrap;\n",
              "      gap: 12px;\n",
              "    }\n",
              "\n",
              "    .colab-df-convert {\n",
              "      background-color: #E8F0FE;\n",
              "      border: none;\n",
              "      border-radius: 50%;\n",
              "      cursor: pointer;\n",
              "      display: none;\n",
              "      fill: #1967D2;\n",
              "      height: 32px;\n",
              "      padding: 0 0 0 0;\n",
              "      width: 32px;\n",
              "    }\n",
              "\n",
              "    .colab-df-convert:hover {\n",
              "      background-color: #E2EBFA;\n",
              "      box-shadow: 0px 1px 2px rgba(60, 64, 67, 0.3), 0px 1px 3px 1px rgba(60, 64, 67, 0.15);\n",
              "      fill: #174EA6;\n",
              "    }\n",
              "\n",
              "    [theme=dark] .colab-df-convert {\n",
              "      background-color: #3B4455;\n",
              "      fill: #D2E3FC;\n",
              "    }\n",
              "\n",
              "    [theme=dark] .colab-df-convert:hover {\n",
              "      background-color: #434B5C;\n",
              "      box-shadow: 0px 1px 3px 1px rgba(0, 0, 0, 0.15);\n",
              "      filter: drop-shadow(0px 1px 2px rgba(0, 0, 0, 0.3));\n",
              "      fill: #FFFFFF;\n",
              "    }\n",
              "  </style>\n",
              "\n",
              "      <script>\n",
              "        const buttonEl =\n",
              "          document.querySelector('#df-8f085df5-ffc3-431d-bba4-44c5609ec042 button.colab-df-convert');\n",
              "        buttonEl.style.display =\n",
              "          google.colab.kernel.accessAllowed ? 'block' : 'none';\n",
              "\n",
              "        async function convertToInteractive(key) {\n",
              "          const element = document.querySelector('#df-8f085df5-ffc3-431d-bba4-44c5609ec042');\n",
              "          const dataTable =\n",
              "            await google.colab.kernel.invokeFunction('convertToInteractive',\n",
              "                                                     [key], {});\n",
              "          if (!dataTable) return;\n",
              "\n",
              "          const docLinkHtml = 'Like what you see? Visit the ' +\n",
              "            '<a target=\"_blank\" href=https://colab.research.google.com/notebooks/data_table.ipynb>data table notebook</a>'\n",
              "            + ' to learn more about interactive tables.';\n",
              "          element.innerHTML = '';\n",
              "          dataTable['output_type'] = 'display_data';\n",
              "          await google.colab.output.renderOutput(dataTable, element);\n",
              "          const docLink = document.createElement('div');\n",
              "          docLink.innerHTML = docLinkHtml;\n",
              "          element.appendChild(docLink);\n",
              "        }\n",
              "      </script>\n",
              "    </div>\n",
              "  </div>\n",
              "  "
            ]
          },
          "metadata": {},
          "execution_count": 32
        }
      ]
    },
    {
      "cell_type": "code",
      "source": [
        "# save as input.csv file\n",
        "df = df.dropna()\n",
        "df.to_csv(\"input.csv\", index=False, header= None)\n",
        "# df.to_csv(\"input1.csv\", index=False)\n",
        "# df.to_csv(\"balance_input.csv\", index=False)"
      ],
      "metadata": {
        "id": "tvzBsUkO_IBz"
      },
      "execution_count": null,
      "outputs": []
    },
    {
      "cell_type": "code",
      "source": [],
      "metadata": {
        "id": "2rxIELKUB1tk"
      },
      "execution_count": null,
      "outputs": []
    }
  ]
}